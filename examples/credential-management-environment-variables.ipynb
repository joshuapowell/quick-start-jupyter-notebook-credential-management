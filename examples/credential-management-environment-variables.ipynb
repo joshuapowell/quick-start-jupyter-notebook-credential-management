{
 "cells": [
  {
   "cell_type": "markdown",
   "id": "2bf17a40",
   "metadata": {},
   "source": [
    "# Securely Handling Credentials in <br/> Local Code Notebooks\n",
    "\n",
    "## Use Environment Variables\n",
    "\n",
    "Using environment variables is a fast way to access credentials from within a notebook without storing the credentials inside of the notebook code. Using this method prevents you from hard coding credentials directly in your code and avoids an accidental exposure to your repository via version control; the environment variables are most likely stored in plain text on your local development environment.\n",
    "\n",
    "The `getenv` method can be used to retrieve any information stored as an environment variable in your operating system accessible to your Python environment."
   ]
  },
  {
   "cell_type": "code",
   "execution_count": 5,
   "id": "e85b1455",
   "metadata": {},
   "outputs": [],
   "source": [
    "import os\n",
    "\n",
    "# The following code assumes that you have a USERNAME,\n",
    "# PASSWORD, and API_KEY variable in your environment\n",
    "# file. Depending on your environment this may be a\n",
    "# `.bashrc`, `.profile`, `.zshrc`, or similar file that\n",
    "# is located in your users root directory `~/`.\n",
    "\n",
    "username = os.getenv(\"USERNAME\")\n",
    "password = os.getenv(\"PASSWORD\")\n",
    "\n",
    "api_key = os.getenv(\"API_KEY\")"
   ]
  }
 ],
 "metadata": {
  "kernelspec": {
   "display_name": "Python 3",
   "language": "python",
   "name": "python3"
  },
  "language_info": {
   "codemirror_mode": {
    "name": "ipython",
    "version": 3
   },
   "file_extension": ".py",
   "mimetype": "text/x-python",
   "name": "python",
   "nbconvert_exporter": "python",
   "pygments_lexer": "ipython3",
   "version": "3.9.6"
  }
 },
 "nbformat": 4,
 "nbformat_minor": 5
}
