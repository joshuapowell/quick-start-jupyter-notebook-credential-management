{
 "cells": [
  {
   "cell_type": "markdown",
   "id": "2bf17a40",
   "metadata": {},
   "source": [
    "# Securely Handling Credentials in <br/> Local Code Notebooks\n",
    "\n",
    "## Use Interactive Prompts\n",
    "\n",
    "Using the `getpass` library to prompt for credentials interactively at runtime, circumvents the need to store credentials anywhere in code. While the name of the primary method is `getpass` it can be used to collect any sensitive string of information such as a username, password, or API Key."
   ]
  },
  {
   "cell_type": "code",
   "execution_count": 2,
   "id": "e85b1455",
   "metadata": {},
   "outputs": [],
   "source": [
    "import getpass\n",
    "\n",
    "username = getpass.getpass(\"Enter Username: \")\n",
    "password = getpass.getpass(\"Enter Password: \")\n",
    "\n",
    "api_key = getpass.getpass(\"Enter API Key: \")"
   ]
  }
 ],
 "metadata": {
  "kernelspec": {
   "display_name": "Python 3",
   "language": "python",
   "name": "python3"
  },
  "language_info": {
   "codemirror_mode": {
    "name": "ipython",
    "version": 3
   },
   "file_extension": ".py",
   "mimetype": "text/x-python",
   "name": "python",
   "nbconvert_exporter": "python",
   "pygments_lexer": "ipython3",
   "version": "3.9.6"
  }
 },
 "nbformat": 4,
 "nbformat_minor": 5
}
