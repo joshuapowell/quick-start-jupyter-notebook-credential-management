{
 "cells": [
  {
   "cell_type": "markdown",
   "id": "2bf17a40",
   "metadata": {},
   "source": [
    "# Securely Handling Credentials in <br/> Local Code Notebooks\n",
    "\n",
    "## Use Configuration Files\n",
    "\n",
    "Using a configuration file through a `.env`, `.json`, or `.yml` file is convenient and provides another layer of protection over simply storing your credentials in your operating system environment. It is important to make sure that you add this file to your `.gitignore` to prevent accidentally uploading it to version control.\n",
    "\n"
   ]
  },
  {
   "cell_type": "code",
   "execution_count": null,
   "id": "721ebe7f",
   "metadata": {},
   "outputs": [],
   "source": [
    "# Installation of third-party `dotenv` Python\n",
    "# package required to complete this demonstration\n",
    "!pip3 install dotenv"
   ]
  },
  {
   "cell_type": "code",
   "execution_count": 7,
   "id": "e85b1455",
   "metadata": {},
   "outputs": [],
   "source": [
    "import os\n",
    "\n",
    "from dotenv import load_dotenv\n",
    "load_dotenv()\n",
    "\n",
    "username = os.getenv(\"USERNAME\")\n",
    "password = os.getenv(\"PASSWORD\")\n",
    "\n",
    "api_key = os.getenv(\"API_KEY\")"
   ]
  }
 ],
 "metadata": {
  "kernelspec": {
   "display_name": "Python 3",
   "language": "python",
   "name": "python3"
  },
  "language_info": {
   "codemirror_mode": {
    "name": "ipython",
    "version": 3
   },
   "file_extension": ".py",
   "mimetype": "text/x-python",
   "name": "python",
   "nbconvert_exporter": "python",
   "pygments_lexer": "ipython3",
   "version": "3.9.6"
  }
 },
 "nbformat": 4,
 "nbformat_minor": 5
}
